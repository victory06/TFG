{
 "cells": [
  {
   "cell_type": "code",
   "execution_count": 33,
   "metadata": {},
   "outputs": [],
   "source": [
    "import pandas as pd\n",
    "import numpy as np\n",
    "\n",
    "from sklearn.model_selection import train_test_split\n",
    "from scipy.io import arff"
   ]
  },
  {
   "cell_type": "code",
   "execution_count": 40,
   "metadata": {},
   "outputs": [],
   "source": [
    "def readData(path):\n",
    "    data = arff.loadarff(path)\n",
    "    dff = pd.DataFrame(data[0])\n",
    "    df = dff.to_numpy()[:,:].astype('U13')\n",
    "    return df[:, :-1], df[:, -1], df\n",
    "    "
   ]
  },
  {
   "cell_type": "code",
   "execution_count": 41,
   "metadata": {},
   "outputs": [
    {
     "data": {
      "text/plain": [
       "array([['0', '0', '0', ..., '12-16 years', 'Parent', 'NO'],\n",
       "       ['0', '0', '0', ..., '12-16 years', 'Relative', 'NO'],\n",
       "       ['0', '0', '0', ..., '12-16 years', '?', 'NO'],\n",
       "       ...,\n",
       "       ['1', '0', '0', ..., '12-16 years', 'Self', 'YES'],\n",
       "       ['1', '1', '0', ..., '12-16 years', 'Self', 'NO'],\n",
       "       ['1', '0', '1', ..., '12-16 years', 'Parent', 'NO']], dtype='<U13')"
      ]
     },
     "execution_count": 41,
     "metadata": {},
     "output_type": "execute_result"
    }
   ],
   "source": [
    "x, y, df = readData('./AdolescentASD/Autism-Adolescent-Data.arff')\n",
    "x_train, x_test, y_train, y_test = train_test_split( x, y, test_size=0.30, random_state=1)\n",
    "df"
   ]
  },
  {
   "cell_type": "code",
   "execution_count": 24,
   "metadata": {},
   "outputs": [
    {
     "data": {
      "text/plain": [
       "array([b'YES', b'YES', b'YES', b'NO', b'YES', b'NO', b'YES', b'YES',\n",
       "       b'NO', b'NO', b'NO', b'YES', b'YES', b'YES', b'NO', b'NO', b'YES',\n",
       "       b'NO', b'NO', b'YES', b'YES', b'YES', b'YES', b'NO', b'NO', b'YES',\n",
       "       b'YES', b'YES', b'YES', b'YES', b'YES', b'YES', b'YES', b'YES',\n",
       "       b'YES', b'NO', b'NO', b'NO', b'YES', b'NO', b'NO', b'YES', b'YES',\n",
       "       b'NO', b'YES', b'YES', b'NO', b'YES', b'YES', b'NO', b'YES',\n",
       "       b'YES', b'NO', b'NO', b'NO', b'YES', b'YES', b'NO', b'YES', b'NO',\n",
       "       b'YES', b'YES', b'NO', b'NO', b'YES', b'YES', b'NO', b'NO', b'NO',\n",
       "       b'YES', b'YES', b'YES'], dtype=object)"
      ]
     },
     "execution_count": 24,
     "metadata": {},
     "output_type": "execute_result"
    }
   ],
   "source": [
    "y_train"
   ]
  },
  {
   "cell_type": "code",
   "execution_count": null,
   "metadata": {},
   "outputs": [],
   "source": []
  }
 ],
 "metadata": {
  "kernelspec": {
   "display_name": "Python 3",
   "language": "python",
   "name": "python3"
  },
  "language_info": {
   "codemirror_mode": {
    "name": "ipython",
    "version": 3
   },
   "file_extension": ".py",
   "mimetype": "text/x-python",
   "name": "python",
   "nbconvert_exporter": "python",
   "pygments_lexer": "ipython3",
   "version": "3.7.9"
  }
 },
 "nbformat": 4,
 "nbformat_minor": 4
}
