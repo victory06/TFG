{
  "nbformat": 4,
  "nbformat_minor": 0,
  "metadata": {
    "kernelspec": {
      "display_name": "Python 3",
      "language": "python",
      "name": "python3"
    },
    "language_info": {
      "codemirror_mode": {
        "name": "ipython",
        "version": 3
      },
      "file_extension": ".py",
      "mimetype": "text/x-python",
      "name": "python",
      "nbconvert_exporter": "python",
      "pygments_lexer": "ipython3",
      "version": "3.7.9"
    },
    "colab": {
      "name": "First.ipynb",
      "provenance": [],
      "collapsed_sections": [],
      "include_colab_link": true
    }
  },
  "cells": [
    {
      "cell_type": "markdown",
      "metadata": {
        "id": "view-in-github",
        "colab_type": "text"
      },
      "source": [
        "<a href=\"https://colab.research.google.com/github/victory06/TFG/blob/master/First.ipynb\" target=\"_parent\"><img src=\"https://colab.research.google.com/assets/colab-badge.svg\" alt=\"Open In Colab\"/></a>"
      ]
    },
    {
      "cell_type": "code",
      "metadata": {
        "colab": {
          "base_uri": "https://localhost:8080/"
        },
        "id": "OP--tUwYCqt-",
        "outputId": "aa181376-f75b-4696-c1f4-088bd8f704da"
      },
      "source": [
        "from google.colab import drive\n",
        "drive.mount('/content/drive')"
      ],
      "execution_count": 4,
      "outputs": [
        {
          "output_type": "stream",
          "text": [
            "Mounted at /content/drive\n"
          ],
          "name": "stdout"
        }
      ]
    },
    {
      "cell_type": "code",
      "metadata": {
        "id": "RBHhekXA7UHv"
      },
      "source": [
        "import pandas as pd\n",
        "import numpy as np\n",
        "\n",
        "from sklearn.model_selection import train_test_split, GridSearchCV\n",
        "from scipy.io import arff\n",
        "from sklearn.feature_selection import SelectFromModel, VarianceThreshold, SelectKBest\n",
        "from sklearn.impute import SimpleImputer\n",
        "from sklearn.linear_model import Perceptron, Lasso, LogisticRegression, LinearRegression, SGDRegressor, Ridge\n",
        "from sklearn.preprocessing import StandardScaler, PolynomialFeatures\n",
        "from sklearn.pipeline import Pipeline\n",
        "from sklearn import preprocessing\n",
        "from sklearn.svm import SVC\n",
        "from sklearn.preprocessing import OneHotEncoder\n",
        "from sklearn.preprocessing import LabelEncoder\n",
        "from sklearn.ensemble import RandomForestClassifier\n",
        "from sklearn.neural_network import MLPClassifier\n"
      ],
      "execution_count": 1,
      "outputs": []
    },
    {
      "cell_type": "code",
      "metadata": {
        "id": "t6UuI0H37UH8"
      },
      "source": [
        "def readData(path):\n",
        "    data = arff.loadarff(path)\n",
        "    dff = pd.DataFrame(data[0])\n",
        "    dff = dff.apply(LabelEncoder().fit_transform)\n",
        "    df = dff.to_numpy()[:,:].astype('U13')\n",
        "    df = df.astype(float)\n",
        "    imp = SimpleImputer(strategy=\"most_frequent\")\n",
        "    df = imp.fit_transform(df)\n",
        "    return df[:, :-1], df[:, -1], df\n",
        "    "
      ],
      "execution_count": 2,
      "outputs": []
    },
    {
      "cell_type": "code",
      "metadata": {
        "id": "jHHdkwPN7UH-",
        "colab": {
          "base_uri": "https://localhost:8080/",
          "height": 349
        },
        "outputId": "46bdc566-bbf2-4b52-e4e9-6e03b0ae51cd"
      },
      "source": [
        "x, y, df = readData('/content/drive/MyDrive/TFG/AdolescentASD/Autism-Adolescent-Data.arff')\n",
        "x_train, x_test, y_train, y_test = train_test_split( x, y, test_size=0.30, random_state=1)\n",
        "df"
      ],
      "execution_count": 3,
      "outputs": [
        {
          "output_type": "error",
          "ename": "FileNotFoundError",
          "evalue": "ignored",
          "traceback": [
            "\u001b[0;31m---------------------------------------------------------------------------\u001b[0m",
            "\u001b[0;31mFileNotFoundError\u001b[0m                         Traceback (most recent call last)",
            "\u001b[0;32m<ipython-input-3-8e237a69fe63>\u001b[0m in \u001b[0;36m<module>\u001b[0;34m()\u001b[0m\n\u001b[0;32m----> 1\u001b[0;31m \u001b[0mx\u001b[0m\u001b[0;34m,\u001b[0m \u001b[0my\u001b[0m\u001b[0;34m,\u001b[0m \u001b[0mdf\u001b[0m \u001b[0;34m=\u001b[0m \u001b[0mreadData\u001b[0m\u001b[0;34m(\u001b[0m\u001b[0;34m'./AdolescentASD/Autism-Adolescent-Data.arff'\u001b[0m\u001b[0;34m)\u001b[0m\u001b[0;34m\u001b[0m\u001b[0;34m\u001b[0m\u001b[0m\n\u001b[0m\u001b[1;32m      2\u001b[0m \u001b[0mx_train\u001b[0m\u001b[0;34m,\u001b[0m \u001b[0mx_test\u001b[0m\u001b[0;34m,\u001b[0m \u001b[0my_train\u001b[0m\u001b[0;34m,\u001b[0m \u001b[0my_test\u001b[0m \u001b[0;34m=\u001b[0m \u001b[0mtrain_test_split\u001b[0m\u001b[0;34m(\u001b[0m \u001b[0mx\u001b[0m\u001b[0;34m,\u001b[0m \u001b[0my\u001b[0m\u001b[0;34m,\u001b[0m \u001b[0mtest_size\u001b[0m\u001b[0;34m=\u001b[0m\u001b[0;36m0.30\u001b[0m\u001b[0;34m,\u001b[0m \u001b[0mrandom_state\u001b[0m\u001b[0;34m=\u001b[0m\u001b[0;36m1\u001b[0m\u001b[0;34m)\u001b[0m\u001b[0;34m\u001b[0m\u001b[0;34m\u001b[0m\u001b[0m\n\u001b[1;32m      3\u001b[0m \u001b[0mdf\u001b[0m\u001b[0;34m\u001b[0m\u001b[0;34m\u001b[0m\u001b[0m\n",
            "\u001b[0;32m<ipython-input-2-72dba434e0ac>\u001b[0m in \u001b[0;36mreadData\u001b[0;34m(path)\u001b[0m\n\u001b[1;32m      1\u001b[0m \u001b[0;32mdef\u001b[0m \u001b[0mreadData\u001b[0m\u001b[0;34m(\u001b[0m\u001b[0mpath\u001b[0m\u001b[0;34m)\u001b[0m\u001b[0;34m:\u001b[0m\u001b[0;34m\u001b[0m\u001b[0;34m\u001b[0m\u001b[0m\n\u001b[0;32m----> 2\u001b[0;31m     \u001b[0mdata\u001b[0m \u001b[0;34m=\u001b[0m \u001b[0marff\u001b[0m\u001b[0;34m.\u001b[0m\u001b[0mloadarff\u001b[0m\u001b[0;34m(\u001b[0m\u001b[0mpath\u001b[0m\u001b[0;34m)\u001b[0m\u001b[0;34m\u001b[0m\u001b[0;34m\u001b[0m\u001b[0m\n\u001b[0m\u001b[1;32m      3\u001b[0m     \u001b[0mdff\u001b[0m \u001b[0;34m=\u001b[0m \u001b[0mpd\u001b[0m\u001b[0;34m.\u001b[0m\u001b[0mDataFrame\u001b[0m\u001b[0;34m(\u001b[0m\u001b[0mdata\u001b[0m\u001b[0;34m[\u001b[0m\u001b[0;36m0\u001b[0m\u001b[0;34m]\u001b[0m\u001b[0;34m)\u001b[0m\u001b[0;34m\u001b[0m\u001b[0;34m\u001b[0m\u001b[0m\n\u001b[1;32m      4\u001b[0m     \u001b[0mdff\u001b[0m \u001b[0;34m=\u001b[0m \u001b[0mdff\u001b[0m\u001b[0;34m.\u001b[0m\u001b[0mapply\u001b[0m\u001b[0;34m(\u001b[0m\u001b[0mLabelEncoder\u001b[0m\u001b[0;34m(\u001b[0m\u001b[0;34m)\u001b[0m\u001b[0;34m.\u001b[0m\u001b[0mfit_transform\u001b[0m\u001b[0;34m)\u001b[0m\u001b[0;34m\u001b[0m\u001b[0;34m\u001b[0m\u001b[0m\n\u001b[1;32m      5\u001b[0m     \u001b[0mdf\u001b[0m \u001b[0;34m=\u001b[0m \u001b[0mdff\u001b[0m\u001b[0;34m.\u001b[0m\u001b[0mto_numpy\u001b[0m\u001b[0;34m(\u001b[0m\u001b[0;34m)\u001b[0m\u001b[0;34m[\u001b[0m\u001b[0;34m:\u001b[0m\u001b[0;34m,\u001b[0m\u001b[0;34m:\u001b[0m\u001b[0;34m]\u001b[0m\u001b[0;34m.\u001b[0m\u001b[0mastype\u001b[0m\u001b[0;34m(\u001b[0m\u001b[0;34m'U13'\u001b[0m\u001b[0;34m)\u001b[0m\u001b[0;34m\u001b[0m\u001b[0;34m\u001b[0m\u001b[0m\n",
            "\u001b[0;32m/usr/local/lib/python3.7/dist-packages/scipy/io/arff/arffread.py\u001b[0m in \u001b[0;36mloadarff\u001b[0;34m(f)\u001b[0m\n\u001b[1;32m    801\u001b[0m         \u001b[0mofile\u001b[0m \u001b[0;34m=\u001b[0m \u001b[0mf\u001b[0m\u001b[0;34m\u001b[0m\u001b[0;34m\u001b[0m\u001b[0m\n\u001b[1;32m    802\u001b[0m     \u001b[0;32melse\u001b[0m\u001b[0;34m:\u001b[0m\u001b[0;34m\u001b[0m\u001b[0;34m\u001b[0m\u001b[0m\n\u001b[0;32m--> 803\u001b[0;31m         \u001b[0mofile\u001b[0m \u001b[0;34m=\u001b[0m \u001b[0mopen\u001b[0m\u001b[0;34m(\u001b[0m\u001b[0mf\u001b[0m\u001b[0;34m,\u001b[0m \u001b[0;34m'rt'\u001b[0m\u001b[0;34m)\u001b[0m\u001b[0;34m\u001b[0m\u001b[0;34m\u001b[0m\u001b[0m\n\u001b[0m\u001b[1;32m    804\u001b[0m     \u001b[0;32mtry\u001b[0m\u001b[0;34m:\u001b[0m\u001b[0;34m\u001b[0m\u001b[0;34m\u001b[0m\u001b[0m\n\u001b[1;32m    805\u001b[0m         \u001b[0;32mreturn\u001b[0m \u001b[0m_loadarff\u001b[0m\u001b[0;34m(\u001b[0m\u001b[0mofile\u001b[0m\u001b[0;34m)\u001b[0m\u001b[0;34m\u001b[0m\u001b[0;34m\u001b[0m\u001b[0m\n",
            "\u001b[0;31mFileNotFoundError\u001b[0m: [Errno 2] No such file or directory: './AdolescentASD/Autism-Adolescent-Data.arff'"
          ]
        }
      ]
    },
    {
      "cell_type": "code",
      "metadata": {
        "id": "J2pdd09s7UIC"
      },
      "source": [
        "preproc=[(\"missing\", SimpleImputer()),\n",
        "        (\"var\", VarianceThreshold(0.01)),\n",
        "        (\"standardize\", StandardScaler()),\n",
        "        (\"poly\", PolynomialFeatures(2))]\n",
        "\n",
        "pipe=Pipeline(preproc + [('model', SGDRegressor())])\n",
        "\n",
        "#pipe=Pipeline(preproc + [('lr', LogisticRegression())])"
      ],
      "execution_count": null,
      "outputs": []
    },
    {
      "cell_type": "code",
      "metadata": {
        "id": "q0tgpcRO7UIE",
        "outputId": "2400a957-8616-4d67-b542-1402f91a4113"
      },
      "source": [
        "\n",
        "params_grid=[\n",
        "        {\"model\":[SGDRegressor(max_iter=500)],\n",
        "               \"model__loss\":['huber', 'squared_loss', 'epsilon_insensitive', 'squared_epsilon_insensitive'],\n",
        "               \"model__penalty\":['l1','l2'],\n",
        "               \"model__alpha\":np.logspace(-5,5,5),\n",
        "               \"poly__degree\":[1,2]},\n",
        "        {\"model\":[LinearRegression()],\n",
        "               \"poly__degree\":[1,2]},\n",
        "        {\"model\":[Ridge()],\n",
        "               \"poly__degree\":[1,2],\n",
        "               \"model__alpha\":np.logspace(-5,5,5)},\n",
        "        {\"model\":[Lasso()],\n",
        "               \"poly__degree\":[1,2],\n",
        "               \"model__alpha\":np.logspace(-5,5,5)}]\n",
        "\"\"\"\n",
        "params_grid=[\n",
        "        {\"lr\":[LogisticRegression(penalty='l1',max_iter=500)],\n",
        "                \"lr__C\":np.logspace(-2,2,5),\n",
        "                \"lr__solver\":['lbfgs']},\n",
        "       {\"lr\": [RandomForestClassifier(random_state = 1,\n",
        "                                       n_jobs = -1, criterion = 'entropy')],\n",
        "         \"lr__n_estimators\": [100, 200],\n",
        "         \"lr__max_depth\": [6, 8]},\n",
        "        {\"lr\": [SVC(kernel='rbf', gamma='scale', max_iter=1000, degree=2)],\n",
        "               \"lr__C\":np.logspace(-2,2,5)},\n",
        "        {\"lr\": [MLPClassifier(random_state=1, max_iter=1000, hidden_layer_sizes=60)],\n",
        "           \"lr__solver\":['sgd'],\n",
        "           \"lr__activation\":['relu','logistic']}\n",
        "            \n",
        "]\n",
        "\"\"\""
      ],
      "execution_count": null,
      "outputs": [
        {
          "output_type": "execute_result",
          "data": {
            "text/plain": [
              "'\\nparams_grid=[\\n        {\"lr\":[LogisticRegression(penalty=\\'l1\\',max_iter=500)],\\n                \"lr__C\":np.logspace(-2,2,5),\\n                \"lr__solver\":[\\'lbfgs\\']},\\n       {\"lr\": [RandomForestClassifier(random_state = 1,\\n                                       n_jobs = -1, criterion = \\'entropy\\')],\\n         \"lr__n_estimators\": [100, 200],\\n         \"lr__max_depth\": [6, 8]},\\n        {\"lr\": [SVC(kernel=\\'rbf\\', gamma=\\'scale\\', max_iter=1000, degree=2)],\\n               \"lr__C\":np.logspace(-2,2,5)},\\n        {\"lr\": [MLPClassifier(random_state=1, max_iter=1000, hidden_layer_sizes=60)],\\n           \"lr__solver\":[\\'sgd\\'],\\n           \"lr__activation\":[\\'relu\\',\\'logistic\\']}\\n            \\n]\\n'"
            ]
          },
          "metadata": {
            "tags": []
          },
          "execution_count": 191
        }
      ]
    },
    {
      "cell_type": "code",
      "metadata": {
        "id": "uO2b-fKh7UIF",
        "outputId": "e4819161-9e89-4a57-c1ca-dfc07e51e019"
      },
      "source": [
        "best_model=GridSearchCV(pipe,params_grid, scoring='neg_mean_squared_error', cv=5, n_jobs=-1, verbose=1)\n",
        "best_model.fit(x_train,y_train)\n",
        "print(\"Parámetros del mejor clasificador:\\n{}\".format(best_model.best_params_))\n",
        "print(\"Error en CV: {:0.3f}%\".format(100.0 * best_model.best_score_))\n",
        "print(\"Error en training: {:0.3f}%\".format(\n",
        "        100.0 * best_model.score(x_train, y_train)))\n",
        "print(\"Error en test: {:0.3f}%\".format(\n",
        "        100.0 * best_model.score(x_test, y_test)))\n"
      ],
      "execution_count": null,
      "outputs": [
        {
          "output_type": "stream",
          "text": [
            "Fitting 5 folds for each of 102 candidates, totalling 510 fits\n",
            "Parámetros del mejor clasificador:\n",
            "{'model': SGDRegressor(alpha=0.0031622776601683794, max_iter=500), 'model__alpha': 0.0031622776601683794, 'model__loss': 'squared_loss', 'model__penalty': 'l2', 'poly__degree': 1}\n",
            "Error en CV: -10.367%\n",
            "Error en training: -5.371%\n",
            "Error en test: -7.282%\n"
          ],
          "name": "stdout"
        }
      ]
    },
    {
      "cell_type": "code",
      "metadata": {
        "id": "MaIoUxDe7UIH"
      },
      "source": [
        ""
      ],
      "execution_count": null,
      "outputs": []
    }
  ]
}