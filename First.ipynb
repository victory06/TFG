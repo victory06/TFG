{
  "nbformat": 4,
  "nbformat_minor": 0,
  "metadata": {
    "kernelspec": {
      "display_name": "Python 3",
      "language": "python",
      "name": "python3"
    },
    "language_info": {
      "codemirror_mode": {
        "name": "ipython",
        "version": 3
      },
      "file_extension": ".py",
      "mimetype": "text/x-python",
      "name": "python",
      "nbconvert_exporter": "python",
      "pygments_lexer": "ipython3",
      "version": "3.7.9"
    },
    "colab": {
      "name": "First.ipynb",
      "provenance": [],
      "collapsed_sections": [],
      "include_colab_link": true
    }
  },
  "cells": [
    {
      "cell_type": "markdown",
      "metadata": {
        "id": "view-in-github",
        "colab_type": "text"
      },
      "source": [
        "<a href=\"https://colab.research.google.com/github/victory06/TFG/blob/master/First.ipynb\" target=\"_parent\"><img src=\"https://colab.research.google.com/assets/colab-badge.svg\" alt=\"Open In Colab\"/></a>"
      ]
    },
    {
      "cell_type": "code",
      "metadata": {
        "colab": {
          "base_uri": "https://localhost:8080/"
        },
        "id": "OP--tUwYCqt-",
        "outputId": "8baba5a9-a5c5-4690-c262-148034732ee6"
      },
      "source": [
        "from google.colab import drive\n",
        "drive.mount('/content/drive')"
      ],
      "execution_count": 24,
      "outputs": [
        {
          "output_type": "stream",
          "text": [
            "Drive already mounted at /content/drive; to attempt to forcibly remount, call drive.mount(\"/content/drive\", force_remount=True).\n"
          ],
          "name": "stdout"
        }
      ]
    },
    {
      "cell_type": "code",
      "metadata": {
        "id": "RBHhekXA7UHv"
      },
      "source": [
        "import pandas as pd\n",
        "import numpy as np\n",
        "\n",
        "from sklearn.model_selection import train_test_split, GridSearchCV\n",
        "from scipy.io import arff\n",
        "from sklearn.feature_selection import SelectFromModel, VarianceThreshold, SelectKBest\n",
        "from sklearn.impute import SimpleImputer\n",
        "from sklearn.linear_model import Perceptron, Lasso, LogisticRegression, LinearRegression, SGDRegressor, Ridge\n",
        "from sklearn.preprocessing import StandardScaler, PolynomialFeatures\n",
        "from sklearn.pipeline import Pipeline\n",
        "from sklearn import preprocessing\n",
        "from sklearn.svm import SVC\n",
        "from sklearn.preprocessing import OneHotEncoder\n",
        "from sklearn.preprocessing import LabelEncoder\n",
        "from sklearn.ensemble import RandomForestClassifier\n",
        "from sklearn.neural_network import MLPClassifier\n"
      ],
      "execution_count": 54,
      "outputs": []
    },
    {
      "cell_type": "code",
      "metadata": {
        "id": "t6UuI0H37UH8"
      },
      "source": [
        "\"\"\"\n",
        "Lee las bases de datos y elimina los datos perdidos:\n",
        "    - path: indica el path que se leerá siempre\n",
        "    - three_paths: indica si se quieren leer las tres bases de datos o solo una\n",
        "    - strategy_SI: la estrategia a seguir para quitar los datos perdidos\n",
        "\"\"\"\n",
        "def readData(path, path2, path3, three_paths=False, strategy_SI = \"most_frequent\"):\n",
        "    if(three_paths==False):\n",
        "      data = arff.loadarff(path)\n",
        "      dff = pd.DataFrame(data[0])\n",
        "      dff = dff.apply(LabelEncoder().fit_transform)\n",
        "      df = dff.to_numpy()[:,:].astype('U13')\n",
        "      df = df.astype(float)\n",
        "      imp = SimpleImputer(strategy=strategy_SI)\n",
        "      df = imp.fit_transform(df)\n",
        "    else:\n",
        "      print(\"Aqui\")\n",
        "      data1 = arff.loadarff(path)\n",
        "      dff1 = pd.DataFrame(data1[0])\n",
        "      dff1 = dff1.apply(LabelEncoder().fit_transform)\n",
        "      df1 = dff1.to_numpy()[:,:].astype('U13')\n",
        "      df1 = df1.astype(float)\n",
        "\n",
        "      data2 = arff.loadarff(path)\n",
        "      dff2 = pd.DataFrame(data2[0])\n",
        "      dff2 = dff2.apply(LabelEncoder().fit_transform)\n",
        "      df2 = dff2.to_numpy()[:,:].astype('U13')\n",
        "      df2 = df2.astype(float)\n",
        "\n",
        "      data3 = arff.loadarff(path)\n",
        "      dff3 = pd.DataFrame(data3[0])\n",
        "      dff3 = dff3.apply(LabelEncoder().fit_transform)\n",
        "      df3 = dff3.to_numpy()[:,:].astype('U13')\n",
        "      df3 = df3.astype(float)\n",
        "\n",
        "      df = np.concatenate((df1,df2,df3),axis=0)\n",
        "      np.random.shuffle(df)\n",
        "      imp = SimpleImputer(strategy=strategy_SI)\n",
        "      df = imp.fit_transform(df)\n",
        "\n",
        "    return df[:, :-1], df[:, -1], df\n",
        "\n",
        "    "
      ],
      "execution_count": 55,
      "outputs": []
    },
    {
      "cell_type": "code",
      "metadata": {
        "id": "jHHdkwPN7UH-",
        "colab": {
          "base_uri": "https://localhost:8080/"
        },
        "outputId": "65f548a3-f9cd-49c2-a371-f0672d625a16"
      },
      "source": [
        "x, y, df = readData('/content/drive/MyDrive/TFG/ChildASD/Autism-Child-Data.arff','/content/drive/MyDrive/TFG/AdolescentASD/Autism-Adolescent-Data.arff','/content/drive/MyDrive/TFG/AdultASD/Autism-Adult-Data.arff',three_paths=True)\n",
        "x_train, x_test, y_train, y_test = train_test_split( x, y, test_size=0.30, random_state=1)\n",
        "df"
      ],
      "execution_count": 56,
      "outputs": [
        {
          "output_type": "stream",
          "text": [
            "Aqui\n"
          ],
          "name": "stdout"
        },
        {
          "output_type": "execute_result",
          "data": {
            "text/plain": [
              "array([[1., 0., 1., ..., 0., 2., 1.],\n",
              "       [1., 1., 1., ..., 0., 2., 1.],\n",
              "       [1., 1., 1., ..., 0., 2., 1.],\n",
              "       ...,\n",
              "       [1., 1., 1., ..., 0., 2., 1.],\n",
              "       [0., 0., 0., ..., 0., 2., 0.],\n",
              "       [0., 1., 1., ..., 0., 2., 1.]])"
            ]
          },
          "metadata": {
            "tags": []
          },
          "execution_count": 56
        }
      ]
    },
    {
      "cell_type": "code",
      "metadata": {
        "id": "J2pdd09s7UIC"
      },
      "source": [
        "preproc=[(\"var\", VarianceThreshold(0.01)),\n",
        "        (\"standardize\", StandardScaler()),\n",
        "        (\"poly\", PolynomialFeatures(2))]\n",
        "\n",
        "pipe=Pipeline(preproc + [('model', SGDRegressor())])\n",
        "\n",
        "#pipe=Pipeline([('lr', LogisticRegression())])"
      ],
      "execution_count": 58,
      "outputs": []
    },
    {
      "cell_type": "code",
      "metadata": {
        "id": "q0tgpcRO7UIE",
        "colab": {
          "base_uri": "https://localhost:8080/",
          "height": 70
        },
        "outputId": "1e85211e-ad8e-4e0f-a70a-30111162e7a7"
      },
      "source": [
        "\n",
        "params_grid=[\n",
        "        {\"model\":[SGDRegressor(max_iter=500)],\n",
        "               \"model__loss\":['huber', 'squared_loss', 'epsilon_insensitive', 'squared_epsilon_insensitive'],\n",
        "               \"model__penalty\":['l1','l2'],\n",
        "               \"model__alpha\":np.logspace(-5,5,5),\n",
        "               \"poly__degree\":[1,2]},\n",
        "        {\"model\":[LinearRegression()],\n",
        "               \"poly__degree\":[1,2]},\n",
        "        {\"model\":[Ridge()],\n",
        "               \"poly__degree\":[1,2],\n",
        "               \"model__alpha\":np.logspace(-5,5,5)},\n",
        "        {\"model\":[Lasso()],\n",
        "               \"poly__degree\":[1,2],\n",
        "               \"model__alpha\":np.logspace(-5,5,5)}]\n",
        "\"\"\"\n",
        "params_grid=[\n",
        "        {\"lr\":[LogisticRegression(penalty='l1',max_iter=500)],\n",
        "                \"lr__C\":np.logspace(-2,2,5),\n",
        "                \"lr__solver\":['lbfgs']},\n",
        "       {\"lr\": [RandomForestClassifier(random_state = 1,\n",
        "                                       n_jobs = -1, criterion = 'entropy')],\n",
        "         \"lr__n_estimators\": [100, 200],\n",
        "         \"lr__max_depth\": [6, 8]},\n",
        "        {\"lr\": [SVC(kernel='rbf', gamma='scale', max_iter=1000, degree=2)],\n",
        "               \"lr__C\":np.logspace(-2,2,5)},\n",
        "        {\"lr\": [MLPClassifier(random_state=1, max_iter=1000, hidden_layer_sizes=60)],\n",
        "           \"lr__solver\":['sgd'],\n",
        "           \"lr__activation\":['relu','logistic']}\n",
        "            \n",
        "]\n",
        "\"\"\""
      ],
      "execution_count": 59,
      "outputs": [
        {
          "output_type": "execute_result",
          "data": {
            "application/vnd.google.colaboratory.intrinsic+json": {
              "type": "string"
            },
            "text/plain": [
              "'\\nparams_grid=[\\n        {\"lr\":[LogisticRegression(penalty=\\'l1\\',max_iter=500)],\\n                \"lr__C\":np.logspace(-2,2,5),\\n                \"lr__solver\":[\\'lbfgs\\']},\\n       {\"lr\": [RandomForestClassifier(random_state = 1,\\n                                       n_jobs = -1, criterion = \\'entropy\\')],\\n         \"lr__n_estimators\": [100, 200],\\n         \"lr__max_depth\": [6, 8]},\\n        {\"lr\": [SVC(kernel=\\'rbf\\', gamma=\\'scale\\', max_iter=1000, degree=2)],\\n               \"lr__C\":np.logspace(-2,2,5)},\\n        {\"lr\": [MLPClassifier(random_state=1, max_iter=1000, hidden_layer_sizes=60)],\\n           \"lr__solver\":[\\'sgd\\'],\\n           \"lr__activation\":[\\'relu\\',\\'logistic\\']}\\n            \\n]\\n'"
            ]
          },
          "metadata": {
            "tags": []
          },
          "execution_count": 59
        }
      ]
    },
    {
      "cell_type": "code",
      "metadata": {
        "id": "uO2b-fKh7UIF",
        "colab": {
          "base_uri": "https://localhost:8080/"
        },
        "outputId": "86bcc028-67f0-4792-cf58-8df0fad22bf4"
      },
      "source": [
        "best_model=GridSearchCV(pipe,params_grid, scoring='neg_mean_squared_error', cv=5, n_jobs=-1, verbose=1)\n",
        "best_model.fit(x_train,y_train)\n",
        "print(\"Parámetros del mejor clasificador:\\n{}\".format(best_model.best_params_))\n",
        "print(\"Error en CV: {:0.3f}%\".format(100.0 * best_model.best_score_))\n",
        "print(\"Error en training: {:0.3f}%\".format(\n",
        "        100.0 * best_model.score(x_train, y_train)))\n",
        "print(\"Error en test: {:0.3f}%\".format(\n",
        "        100.0 * best_model.score(x_test, y_test)))\n"
      ],
      "execution_count": 60,
      "outputs": [
        {
          "output_type": "stream",
          "text": [
            "Fitting 5 folds for each of 102 candidates, totalling 510 fits\n"
          ],
          "name": "stdout"
        },
        {
          "output_type": "stream",
          "text": [
            "[Parallel(n_jobs=-1)]: Using backend LokyBackend with 2 concurrent workers.\n"
          ],
          "name": "stderr"
        },
        {
          "output_type": "stream",
          "text": [
            "Parámetros del mejor clasificador:\n",
            "{'model': Lasso(alpha=0.0031622776601683794, copy_X=True, fit_intercept=True,\n",
            "      max_iter=1000, normalize=False, positive=False, precompute=False,\n",
            "      random_state=None, selection='cyclic', tol=0.0001, warm_start=False), 'model__alpha': 0.0031622776601683794, 'poly__degree': 2}\n",
            "Error en CV: -5.189%\n",
            "Error en training: -2.899%\n",
            "Error en test: -3.890%\n"
          ],
          "name": "stdout"
        },
        {
          "output_type": "stream",
          "text": [
            "[Parallel(n_jobs=-1)]: Done 510 out of 510 | elapsed:    4.0s finished\n"
          ],
          "name": "stderr"
        }
      ]
    },
    {
      "cell_type": "code",
      "metadata": {
        "id": "MaIoUxDe7UIH"
      },
      "source": [
        ""
      ],
      "execution_count": null,
      "outputs": []
    }
  ]
}