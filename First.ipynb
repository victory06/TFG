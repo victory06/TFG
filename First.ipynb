{
 "cells": [
  {
   "cell_type": "code",
   "execution_count": 187,
   "metadata": {},
   "outputs": [],
   "source": [
    "import pandas as pd\n",
    "import numpy as np\n",
    "\n",
    "from sklearn.model_selection import train_test_split, GridSearchCV\n",
    "from scipy.io import arff\n",
    "from sklearn.feature_selection import SelectFromModel, VarianceThreshold, SelectKBest\n",
    "from sklearn.impute import SimpleImputer\n",
    "from sklearn.linear_model import Perceptron, Lasso, LogisticRegression, LinearRegression, SGDRegressor, Ridge\n",
    "from sklearn.preprocessing import StandardScaler, PolynomialFeatures\n",
    "from sklearn.pipeline import Pipeline\n",
    "from sklearn import preprocessing\n",
    "from sklearn.svm import SVC\n",
    "from sklearn.preprocessing import OneHotEncoder\n",
    "from sklearn.preprocessing import LabelEncoder\n",
    "from sklearn.ensemble import RandomForestClassifier\n",
    "from sklearn.neural_network import MLPClassifier"
   ]
  },
  {
   "cell_type": "code",
   "execution_count": 188,
   "metadata": {},
   "outputs": [],
   "source": [
    "def readData(path):\n",
    "    data = arff.loadarff(path)\n",
    "    dff = pd.DataFrame(data[0])\n",
    "    dff = dff.apply(LabelEncoder().fit_transform)\n",
    "    df = dff.to_numpy()[:,:].astype('U13')\n",
    "    df = df.astype(float)\n",
    "    return df[:, :-1], df[:, -1], df\n",
    "    "
   ]
  },
  {
   "cell_type": "code",
   "execution_count": 189,
   "metadata": {},
   "outputs": [
    {
     "data": {
      "text/plain": [
       "array([[0., 0., 0., ..., 1., 3., 0.],\n",
       "       [0., 0., 0., ..., 1., 4., 0.],\n",
       "       [0., 0., 0., ..., 1., 0., 0.],\n",
       "       ...,\n",
       "       [1., 0., 0., ..., 1., 5., 1.],\n",
       "       [1., 1., 0., ..., 1., 5., 0.],\n",
       "       [1., 0., 1., ..., 1., 3., 0.]])"
      ]
     },
     "execution_count": 189,
     "metadata": {},
     "output_type": "execute_result"
    }
   ],
   "source": [
    "x, y, df = readData('./AdolescentASD/Autism-Adolescent-Data.arff')\n",
    "x_train, x_test, y_train, y_test = train_test_split( x, y, test_size=0.30, random_state=1)\n",
    "df"
   ]
  },
  {
   "cell_type": "code",
   "execution_count": 190,
   "metadata": {},
   "outputs": [],
   "source": [
    "preproc=[(\"missing\", SimpleImputer()),\n",
    "        (\"var\", VarianceThreshold(0.01)),\n",
    "        (\"standardize\", StandardScaler()),\n",
    "        (\"poly\", PolynomialFeatures(2))]\n",
    "\n",
    "pipe=Pipeline(preproc + [('model', SGDRegressor())])\n",
    "\n",
    "#pipe=Pipeline(preproc + [('lr', LogisticRegression())])"
   ]
  },
  {
   "cell_type": "code",
   "execution_count": 191,
   "metadata": {},
   "outputs": [
    {
     "data": {
      "text/plain": [
       "'\\nparams_grid=[\\n        {\"lr\":[LogisticRegression(penalty=\\'l1\\',max_iter=500)],\\n                \"lr__C\":np.logspace(-2,2,5),\\n                \"lr__solver\":[\\'lbfgs\\']},\\n       {\"lr\": [RandomForestClassifier(random_state = 1,\\n                                       n_jobs = -1, criterion = \\'entropy\\')],\\n         \"lr__n_estimators\": [100, 200],\\n         \"lr__max_depth\": [6, 8]},\\n        {\"lr\": [SVC(kernel=\\'rbf\\', gamma=\\'scale\\', max_iter=1000, degree=2)],\\n               \"lr__C\":np.logspace(-2,2,5)},\\n        {\"lr\": [MLPClassifier(random_state=1, max_iter=1000, hidden_layer_sizes=60)],\\n           \"lr__solver\":[\\'sgd\\'],\\n           \"lr__activation\":[\\'relu\\',\\'logistic\\']}\\n            \\n]\\n'"
      ]
     },
     "execution_count": 191,
     "metadata": {},
     "output_type": "execute_result"
    }
   ],
   "source": [
    "\n",
    "params_grid=[\n",
    "        {\"model\":[SGDRegressor(max_iter=500)],\n",
    "               \"model__loss\":['huber', 'squared_loss', 'epsilon_insensitive', 'squared_epsilon_insensitive'],\n",
    "               \"model__penalty\":['l1','l2'],\n",
    "               \"model__alpha\":np.logspace(-5,5,5),\n",
    "               \"poly__degree\":[1,2]},\n",
    "        {\"model\":[LinearRegression()],\n",
    "               \"poly__degree\":[1,2]},\n",
    "        {\"model\":[Ridge()],\n",
    "               \"poly__degree\":[1,2],\n",
    "               \"model__alpha\":np.logspace(-5,5,5)},\n",
    "        {\"model\":[Lasso()],\n",
    "               \"poly__degree\":[1,2],\n",
    "               \"model__alpha\":np.logspace(-5,5,5)}]\n",
    "\"\"\"\n",
    "params_grid=[\n",
    "        {\"lr\":[LogisticRegression(penalty='l1',max_iter=500)],\n",
    "                \"lr__C\":np.logspace(-2,2,5),\n",
    "                \"lr__solver\":['lbfgs']},\n",
    "       {\"lr\": [RandomForestClassifier(random_state = 1,\n",
    "                                       n_jobs = -1, criterion = 'entropy')],\n",
    "         \"lr__n_estimators\": [100, 200],\n",
    "         \"lr__max_depth\": [6, 8]},\n",
    "        {\"lr\": [SVC(kernel='rbf', gamma='scale', max_iter=1000, degree=2)],\n",
    "               \"lr__C\":np.logspace(-2,2,5)},\n",
    "        {\"lr\": [MLPClassifier(random_state=1, max_iter=1000, hidden_layer_sizes=60)],\n",
    "           \"lr__solver\":['sgd'],\n",
    "           \"lr__activation\":['relu','logistic']}\n",
    "            \n",
    "]\n",
    "\"\"\""
   ]
  },
  {
   "cell_type": "code",
   "execution_count": 192,
   "metadata": {},
   "outputs": [
    {
     "name": "stdout",
     "output_type": "stream",
     "text": [
      "Fitting 5 folds for each of 102 candidates, totalling 510 fits\n",
      "Parámetros del mejor clasificador:\n",
      "{'model': SGDRegressor(alpha=0.0031622776601683794, max_iter=500), 'model__alpha': 0.0031622776601683794, 'model__loss': 'squared_loss', 'model__penalty': 'l2', 'poly__degree': 1}\n",
      "Error en CV: -10.367%\n",
      "Error en training: -5.371%\n",
      "Error en test: -7.282%\n"
     ]
    }
   ],
   "source": [
    "best_model=GridSearchCV(pipe,params_grid, scoring='neg_mean_squared_error', cv=5, n_jobs=-1, verbose=1)\n",
    "best_model.fit(x_train,y_train)\n",
    "print(\"Parámetros del mejor clasificador:\\n{}\".format(best_model.best_params_))\n",
    "print(\"Error en CV: {:0.3f}%\".format(100.0 * best_model.best_score_))\n",
    "print(\"Error en training: {:0.3f}%\".format(\n",
    "        100.0 * best_model.score(x_train, y_train)))\n",
    "print(\"Error en test: {:0.3f}%\".format(\n",
    "        100.0 * best_model.score(x_test, y_test)))\n"
   ]
  },
  {
   "cell_type": "code",
   "execution_count": null,
   "metadata": {},
   "outputs": [],
   "source": []
  }
 ],
 "metadata": {
  "kernelspec": {
   "display_name": "Python 3",
   "language": "python",
   "name": "python3"
  },
  "language_info": {
   "codemirror_mode": {
    "name": "ipython",
    "version": 3
   },
   "file_extension": ".py",
   "mimetype": "text/x-python",
   "name": "python",
   "nbconvert_exporter": "python",
   "pygments_lexer": "ipython3",
   "version": "3.7.9"
  }
 },
 "nbformat": 4,
 "nbformat_minor": 4
}
